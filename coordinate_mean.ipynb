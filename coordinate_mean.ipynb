{
 "cells": [
  {
   "cell_type": "code",
   "execution_count": 12,
   "metadata": {},
   "outputs": [
    {
     "name": "stdout",
     "output_type": "stream",
     "text": [
      "38.414927988\n",
      "-99.911458066\n"
     ]
    }
   ],
   "source": [
    "import numpy as np\n",
    "import pandas as pd\n",
    "\n",
    "file_path = r'C:\\Users\\mlkr8\\OneDrive\\Desktop\\Projects\\Aero Scripts\\Avg Locations.csv'\n",
    "df = pd.read_csv(file_path)\n",
    "\n",
    "xavg = np.average(df['Latitude'])\n",
    "yavg = np.average(df['Longitude'])\n",
    "\n",
    "print(xavg)\n",
    "print(yavg)"
   ]
  }
 ],
 "metadata": {
  "kernelspec": {
   "display_name": "base",
   "language": "python",
   "name": "python3"
  },
  "language_info": {
   "codemirror_mode": {
    "name": "ipython",
    "version": 3
   },
   "file_extension": ".py",
   "mimetype": "text/x-python",
   "name": "python",
   "nbconvert_exporter": "python",
   "pygments_lexer": "ipython3",
   "version": "3.11.5"
  }
 },
 "nbformat": 4,
 "nbformat_minor": 2
}

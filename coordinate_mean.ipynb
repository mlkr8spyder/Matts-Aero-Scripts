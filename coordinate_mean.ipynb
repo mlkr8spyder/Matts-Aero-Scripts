{
 "cells": [
  {
   "cell_type": "code",
   "execution_count": 9,
   "metadata": {},
   "outputs": [
    {
     "name": "stdout",
     "output_type": "stream",
     "text": [
      "38.41492798830104\n",
      "-99.9114580751677\n"
     ]
    }
   ],
   "source": [
    "import numpy as np\n",
    "import pandas as pd\n",
    "\n",
    "file_path = r'C:\\Users\\mlkr8\\OneDrive\\Desktop\\Projects\\Aero Scripts\\Avg Locations.csv'\n",
    "with \n",
    "\n",
    "# Matty Cam Kyguy Tommy Laine\n",
    "xlist = [38.633116, 39.75698972643001, 39.71187747475136, 36.1036568949257, 37.86899984539813]\n",
    "ylist = [-90.205048, -86.14549850488693, -85.81446342867507, -115.13487710034613, -122.25740334193037]\n",
    "\n",
    "xavg = np.average(xlist)\n",
    "yavg = np.average(ylist)\n",
    "\n",
    "print(xavg)\n",
    "print(yavg)"
   ]
  }
 ],
 "metadata": {
  "kernelspec": {
   "display_name": "base",
   "language": "python",
   "name": "python3"
  },
  "language_info": {
   "codemirror_mode": {
    "name": "ipython",
    "version": 3
   },
   "file_extension": ".py",
   "mimetype": "text/x-python",
   "name": "python",
   "nbconvert_exporter": "python",
   "pygments_lexer": "ipython3",
   "version": "3.11.5"
  }
 },
 "nbformat": 4,
 "nbformat_minor": 2
}
